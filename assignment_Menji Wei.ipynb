{
 "cells": [
  {
   "cell_type": "code",
   "execution_count": 11,
   "metadata": {},
   "outputs": [
    {
     "name": "stdout",
     "output_type": "stream",
     "text": [
      "Requirement already satisfied: fastparquet in /opt/conda/lib/python3.11/site-packages (2024.5.0)\n",
      "Requirement already satisfied: pandas>=1.5.0 in /opt/conda/lib/python3.11/site-packages (from fastparquet) (2.2.2)\n",
      "Requirement already satisfied: numpy in /opt/conda/lib/python3.11/site-packages (from fastparquet) (1.26.4)\n",
      "Requirement already satisfied: cramjam>=2.3 in /opt/conda/lib/python3.11/site-packages (from fastparquet) (2.8.4)\n",
      "Requirement already satisfied: fsspec in /opt/conda/lib/python3.11/site-packages (from fastparquet) (2024.6.1)\n",
      "Requirement already satisfied: packaging in /opt/conda/lib/python3.11/site-packages (from fastparquet) (24.1)\n",
      "Requirement already satisfied: python-dateutil>=2.8.2 in /opt/conda/lib/python3.11/site-packages (from pandas>=1.5.0->fastparquet) (2.9.0)\n",
      "Requirement already satisfied: pytz>=2020.1 in /opt/conda/lib/python3.11/site-packages (from pandas>=1.5.0->fastparquet) (2024.1)\n",
      "Requirement already satisfied: tzdata>=2022.7 in /opt/conda/lib/python3.11/site-packages (from pandas>=1.5.0->fastparquet) (2024.1)\n",
      "Requirement already satisfied: six>=1.5 in /opt/conda/lib/python3.11/site-packages (from python-dateutil>=2.8.2->pandas>=1.5.0->fastparquet) (1.16.0)\n",
      "      price  mon_purchases  tues_purchases\n",
      "0        10              1               0\n",
      "1        10              1               1\n",
      "2        10              1               1\n",
      "3        10              0               1\n",
      "4        10              0               1\n",
      "...     ...            ...             ...\n",
      "5095     60              1               0\n",
      "5096     60              0               0\n",
      "5097     60              0               0\n",
      "5098     60              0               0\n",
      "5099     60              0               0\n",
      "\n",
      "[5100 rows x 3 columns]\n",
      "sum of purchases on tuesday: 2615\n",
      "Total rows: 5100\n",
      "Probability of purchase on tuesday: 0.5127450980392156\n",
      "Expected value of sales on tuesday: 27.83250478011472\n",
      "Sum of purchases on monday: 1964\n",
      "Probability of purchase on monday: 0.38509803921568625\n",
      "Expected price on monday (adjusted) is: 48.14684832087613\n"
     ]
    }
   ],
   "source": [
    "# 安装 fastparquet 库\n",
    "! pip install fastparquet\n",
    "\n",
    "import pandas as pd \n",
    "\n",
    "# 读取 parquet 文件\n",
    "df = pd.read_parquet('/home/jovyan/Desktop/assignment 1 files 4/prices.parquet')\n",
    "print(df)\n",
    "\n",
    "# 计算周二的总购买次数\n",
    "total_tuesday_purchases = df['tues_purchases'].sum()\n",
    "print(f'sum of purchases on tuesday: {total_tuesday_purchases}')\n",
    "\n",
    "# 计算数据的总行数\n",
    "total_rows = len(df)\n",
    "print(f'Total rows: {total_rows}')\n",
    "\n",
    "# 计算周二的购买概率\n",
    "average_tuesday_purchases = total_tuesday_purchases / total_rows\n",
    "print(f\"Probability of purchase on tuesday: {average_tuesday_purchases}\")\n",
    "\n",
    "# 计算周二销售的期望价格\n",
    "total_price_weighted_by_purchases = (df['price'] * df['tues_purchases']).sum()\n",
    "expected_price_tuesday = total_price_weighted_by_purchases / total_tuesday_purchases\n",
    "print(f\"Expected value of sales on tuesday: {expected_price_tuesday}\")\n",
    "\n",
    "# 计算周一的总购买次数\n",
    "total_monday_purchase = df['mon_purchases'].sum()\n",
    "print(f'Sum of purchases on monday: {total_monday_purchase}')\n",
    "\n",
    "# 计算周一的购买概率\n",
    "average_monday_purchase = total_monday_purchase / total_rows\n",
    "print(f\"Probability of purchase on monday: {average_monday_purchase}\")\n",
    "\n",
    "# 计算周一销售的期望价格\n",
    "total_price_weighted_by_purchases_mon = (df['price'] * df['mon_purchases']).sum()\n",
    "expected_price_monday = total_price_weighted_by_purchases_mon / total_monday_purchase\n",
    "\n",
    "# 计算修正后的周一销售期望价格\n",
    "expected_price_monday_1 = expected_price_monday + (1 - average_monday_purchase) * expected_price_tuesday\n",
    "print(f'Expected price on monday (adjusted) is: {expected_price_monday_1}')\n"
   ]
  }
 ],
 "metadata": {
  "kernelspec": {
   "display_name": "base",
   "language": "python",
   "name": "python3"
  },
  "language_info": {
   "codemirror_mode": {
    "name": "ipython",
    "version": 3
   },
   "file_extension": ".py",
   "mimetype": "text/x-python",
   "name": "python",
   "nbconvert_exporter": "python",
   "pygments_lexer": "ipython3",
   "version": "3.11.9"
  }
 },
 "nbformat": 4,
 "nbformat_minor": 2
}
